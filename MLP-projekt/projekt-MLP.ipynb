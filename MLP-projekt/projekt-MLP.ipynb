{
 "cells": [
  {
   "cell_type": "markdown",
   "metadata": {},
   "source": [
    "# Projekt z Sztucznych sieci neuronowych. Rafał Wójcik - 286324"
   ]
  },
  {
   "cell_type": "code",
   "execution_count": 2,
   "metadata": {},
   "outputs": [],
   "source": [
    "from modelMLP import MLP, importMNIST, print_plots, print_plot, pred_score, conf_matrix, wine_load\n",
    "import pandas as pd"
   ]
  },
  {
   "cell_type": "markdown",
   "metadata": {},
   "source": [
    "### Spis treści"
   ]
  },
  {
   "cell_type": "markdown",
   "metadata": {},
   "source": [
    "- [Wstęp](#Wstęp)\n",
    "- [Opis MLP](#Opis-MLP)\n",
    "- [Zbiór danych. Czym jest MNIST?](#Czym-jest-MNIST?)\n",
    "- [Tworzenie oraz uczenie modelu MLP dla problemu MNIST](#Tworzenie-oraz-uczenie-modelu-MLP-dla-problemu-MNIST)\n",
    "- [Analiza poprawności klasyfikacji dla MNIST](#Analiza-poprawności-klasyfikacji-dla-MNIST)\n",
    "- [Zbiór danych. Czym jest Wine Data Set?](#Czym-jest-Wine-Data-Set?)\n",
    "- [Tworzenie oraz uczenie modelu MLP dla problemu Wine Data Set](#Tworzenie-oraz-uczenie-modelu-MLP-dla-problemu-Wine-Data-Set)\n",
    "- [Analiza poprawności klasyfikacji dla Wine Data Set](#Analiza-poprawności-klasyfikacji-dla-Wine-Data-Set)\n",
    "- [Podsumowanie](#Podsumowanie)"
   ]
  },
  {
   "cell_type": "markdown",
   "metadata": {},
   "source": [
    "---"
   ]
  },
  {
   "cell_type": "markdown",
   "metadata": {},
   "source": [
    "# Wstęp\n",
    "Implementacja modelu została zawarta w pliku modelMLP.py, tutaj będę wykorzystywał tylko niezbędne funkcję.\n",
    "To pozwoli zachować przejrzystość oraz separacje kod od opisu. <ins>Model został zaimplementowany od zera.</ins>\n",
    "\n",
    "\n",
    "Uznałem, że ciekawym projektem będzie napisanie wielowarstwowego perceptrony (MLP) jest to dość trudne jak na implementacje od zera. Podejmę próbę klasyfikacji obrazków MNIST, model nie jest odporny na skalowanie, rotacje oraz przesunięcia ale fakt że dysponuje sporą ilością obrazków  pozwala na wyciagnięcie zadowalających  wyników. Obrazki będą  przekształcone w wektor celem wprowadzenia do modelu, to powoduje możliwość utraty informacji płynących z relacji po między pixelami.\n",
    "\n",
    "Drugi zestaw danych będzie związany z rodzajami Win. (Wine Data Set) gdzie problematycznym jest ilość próbek które są dostępne."
   ]
  },
  {
   "cell_type": "markdown",
   "metadata": {},
   "source": [
    "---"
   ]
  },
  {
   "cell_type": "markdown",
   "metadata": {},
   "source": [
    "# Opis MLP\n",
    "\n",
    "Połączenie wielu pojedynczych neuronów w wielowarstwową jednokierunkową sieć neuronową nazywamy MLP (ang. Multi-Layer Perceptron).\n",
    "\n",
    "Jest to wstęp do głębokiego uczenia, natomiast uważam, że MLP które posiada tylko jedną warstwę ukrytą nie możemy zaliczyć do głębokiego uczenia. Zaimplementowałem MLP które posiada tylko jedną warstwę ukrytą.\n",
    "<img src=\"https://a.fsdn.com/con/app/proj/neurallibs/screenshots/mlp.PNG\">\n",
    "[Rysunek](https://a.fsdn.com/con/app/proj/neurallibs/screenshots/mlp.PNG) powyżej przedstawia koncepcję trójwarstwowego modelu MLP. Zawiera on warstwę wejściową, warstwę ukrytą oraz warstwę wyjściową.\n",
    "\n",
    "Jako funkcję aktywacji wykorzystuję sigmoidalną funkcję aktywacji.\n",
    "<img src=\"https://hvidberrrg.github.io/deep_learning/activation_functions/assets/sigmoid_function.png\" width=\"400\">\n",
    "\\begin{equation*}\n",
    "ϕ_i = ϕ_i(X_i) = \\frac{1}{(1+e^{-x})}\n",
    "\\end{equation*}\n",
    "\n",
    "Zaimplementowałem dwie różne funkcje kosztu, które po testach przynoszą zbliżone rezultaty:\n",
    "* logistyczna funkcja kosztu\n",
    "\\begin{equation*}\n",
    "J(w) = - \\sum_{i=1}^ny^{(i)'} log(y^{(i)}) + (1-y^{(i)'})log(1-y^{(i)})\\\\\n",
    "\\end{equation*}\n",
    "* błąd średniokwadratowy, funkcja ustawiona jako domyślna\n",
    "\\begin{equation*}\n",
    "J(w) = \\frac{1}{2} \\sum_{i=1}^n(y^{(i)'}-y^{(i)})^2 \\\\\n",
    "y' \\text{- oczekiwana wartość} \\\\\n",
    "y \\text{- wyliczona wartość przez model}\n",
    "\\end{equation*}"
   ]
  },
  {
   "cell_type": "markdown",
   "metadata": {},
   "source": [
    "***\n",
    "\\begin{equation*}\n",
    "A^{(1)} \\quad\\quad \\text{(etykiety)}\\\\\n",
    "W^{(1)} \\quad\\quad \\text{(wagi dla etykiet)}\n",
    "\\end{equation*}"
   ]
  },
  {
   "cell_type": "markdown",
   "metadata": {},
   "source": [
    "\\begin{equation*}\n",
    "Z^{(2)} = W^{(1)}[A^{(1)}]^T  \\quad\\quad \\text{(całkowite pobudzenie warstwy ukrytej)}\\\\\n",
    "A^{(2)} = \\phi(Z^{(2)})  \\quad\\quad \\text{(aktywacja warstwy ukrytej)}\\\\\n",
    "Z^{(3)} = W^{(2)}A^{(2)}  \\quad\\quad \\text{(calkowite pobudzenie warstwy wyjściowej)}\\\\\n",
    "A^{(3)} = \\phi(Z^{(3)})  \\quad\\quad \\text{(aktywacja warstwy wyjściowej)}\n",
    "\\end{equation*}"
   ]
  },
  {
   "cell_type": "markdown",
   "metadata": {},
   "source": [
    "\\begin{equation*}\n",
    "\\text{Wektor błędu dla warstwy wyjściowej:}\\\\\n",
    "δ^{(3)} = A^{(3)}-y\\\\\n",
    "\\text{Parametr y jest wektorem rzeczywistych etykiet klas.}\\\\\n",
    "\\end{equation*}"
   ]
  },
  {
   "cell_type": "markdown",
   "metadata": {},
   "source": [
    "\\begin{equation*}\n",
    "\\text{Błąd dla warstwy ukrytej:}\\\\\n",
    "δ^{(2)} = (W^{(2)})^Tδ^{(3)}*\\frac{\\partialϕ(Z^{(2)})}{Z^{(2)}}\\\\\n",
    "\\text{Gdzie } \\frac{\\partialϕ(Z^{(2)})}{Z^{(2)}} \\text{ to pochodna funkcja aktywacji.}\\\\\n",
    "\\frac{\\partialϕ(Z^{(2)})}{Z^{(2)}} = (A^{(2)}*(1-A^{(2)}))\n",
    "\\end{equation*}"
   ]
  },
  {
   "cell_type": "markdown",
   "metadata": {},
   "source": [
    "\\begin{equation*}\n",
    "\\text{Pochodna cząstkowa każdego j-tego węzła w warstwie $l$ oraz i-ty błąd z warstwy $l$+1:}\\\\\n",
    "Δ_{i,j}^{(l)}:=Δ_{i,j}^{(l)}+A_j^{(l)}δ_i^{(l+1)}\n",
    "\\end{equation*}"
   ]
  },
  {
   "cell_type": "markdown",
   "metadata": {},
   "source": [
    "\\begin{equation*}\n",
    "\\text{Aktualizacja wag, wykonując krok w kierunku przeciwnym do gradientu:}\\\\\n",
    "W^{(l)}:=W^{(l)}-μΔ^{(l)}\n",
    "\\end{equation*}"
   ]
  },
  {
   "cell_type": "markdown",
   "metadata": {},
   "source": [
    "Do tego podstawowego schematu dodałem:\n",
    "- regularyzacja L1, L2 \n",
    "\\begin{equation*}\n",
    "L1 = λ\\sum_{j=1}^m |w_j| \\quad\\quad L2 = λ\\sum_{j=1}^m w_j^2\n",
    "\\end{equation*}\n",
    "- współczynnik momentu\n",
    "\\begin{equation*}\n",
    "Δw_t = μ \\nabla J (w_t)+αΔw_{t-1}\n",
    "\\end{equation*}"
   ]
  },
  {
   "cell_type": "markdown",
   "metadata": {},
   "source": [
    "---"
   ]
  },
  {
   "cell_type": "markdown",
   "metadata": {},
   "source": [
    "# Czym jest MNIST?\n",
    "Zestaw danych MNIST został utworzony z dwóch zbiorów amerykańskiego Narodowego Instytutu Standaryzacji i Technologii. Na dane składają się ręcznie zapisane cyfry od 250 osób. Połowa próbek została utworzona przez uczniów szkoły średniej, a druga przez pracowników amerykańskiego Biura Cenzusowego.\n",
    "\n",
    "Cyfry te są obrazkami 28x28 pixeli. Całą pula to 70.000 różnych obrazków. Podzielę je na 60.000 do nauki modelu oraz 10.000 do testowania osiągnięć.\n",
    "Każdy obrazek ma przypisaną etykietę z cyfrą którą przedstawia.\n",
    "\n",
    "Zbiór ten jest stosowany do testowania modeli oraz do rywalizacji po między zespołami którzy starają się osiągnąć na nim jak najmniejszy błąd. Aktualnie najlepszy wynik jaki udało się osiągnąć na tym zbiorze to błąd [0.21%](http://rodrigob.github.io/are_we_there_yet/build/classification_datasets_results.html). Lecz są to modele wykorzystujące głębokie uczenie. Warto wspomnieć o czasie jaki był potrzebny do wyuczenia takiego modelu. Do osiągnięcia tak niskiego błędu [model](http://people.idsia.ch/~ciresan/data/cvpr2012.pdf) uczył się 14 godzin w ciągu których wykonał 800 epok."
   ]
  },
  {
   "cell_type": "markdown",
   "metadata": {},
   "source": [
    "| Train|Test\n",
    "|-----|--------\n",
    "|60000|10000\n"
   ]
  },
  {
   "cell_type": "code",
   "execution_count": 7,
   "metadata": {
    "scrolled": false
   },
   "outputs": [],
   "source": [
    "(X_train, y_train), (X_test, y_test) = importMNIST()"
   ]
  },
  {
   "cell_type": "markdown",
   "metadata": {},
   "source": [
    "Obrazki przezentują się w taki sposób."
   ]
  },
  {
   "cell_type": "code",
   "execution_count": 4,
   "metadata": {},
   "outputs": [
    {
     "data": {
      "image/png": "[encoded data removed]",
      "text/plain": [
       "<matplotlib.figure.Figure at 0x43826d0>"
      ]
     },
     "metadata": {},
     "output_type": "display_data"
    }
   ],
   "source": [
    "print_plots(X_train)"
   ]
  },
  {
   "cell_type": "markdown",
   "metadata": {},
   "source": [
    "---"
   ]
  },
  {
   "cell_type": "markdown",
   "metadata": {},
   "source": [
    "# Tworzenie oraz uczenie modelu MLP dla problemu MNIST"
   ]
  },
  {
   "cell_type": "markdown",
   "metadata": {},
   "source": [
    "Parametry dobierałem na oko, niestety nie istnieją wzorce mówiące jak to robić optymalnie."
   ]
  },
  {
   "cell_type": "code",
   "execution_count": 5,
   "metadata": {},
   "outputs": [],
   "source": [
    "mlp = MLP(n_output=10,                 # liczba etykiet\n",
    "          n_features=X_train.shape[1]  # liczba cech\n",
    "          ,n_hidden=50,                # liczba neuronow w warstwie ukrytej\n",
    "          l1=0.1, l2=0,                # wspolczynniki regularyzacji\n",
    "          epochs=800,                  # liczba epok\n",
    "          eta=.001                     # wspołczynnik uczenia\n",
    "          ,eta_val=.00001,             # współczynnik zmiany ety\n",
    "          batches=50,                  # modtfikacja co k-ty wektor \n",
    "          alpha=.001                   # wpsolczynnik momentu\n",
    "         )"
   ]
  },
  {
   "cell_type": "markdown",
   "metadata": {},
   "source": [
    "Obrazki zostają zmienione z macierzy 28x28 na wektory o długości 784.\n",
    "\n",
    "Tworze model o strukturze:\n",
    "\n",
    "| Warstwa|Wejsciowa | Ukryta | Wyjściowa\n",
    "|--------|----------|--------|----------\n",
    "|Ilość neuronów|784|50|10\n",
    "\n",
    "Po zaimplementowaniu przystąpię do nauki modelu wykorzystując 60.000 obrazków."
   ]
  },
  {
   "cell_type": "code",
   "execution_count": 8,
   "metadata": {},
   "outputs": [
    {
     "name": "stderr",
     "output_type": "stream",
     "text": [
      "Epoka: 800/800, time: 22.43m"
     ]
    },
    {
     "data": {
      "text/plain": [
       "<modelMLP.MLP instance at 0x0DC5E198>"
      ]
     },
     "execution_count": 8,
     "metadata": {},
     "output_type": "execute_result"
    }
   ],
   "source": [
    "mlp.fit(X_train, y_train)"
   ]
  },
  {
   "cell_type": "markdown",
   "metadata": {},
   "source": [
    "---"
   ]
  },
  {
   "cell_type": "markdown",
   "metadata": {},
   "source": [
    "# Analiza poprawności klasyfikacji dla MNIST\n",
    "\n",
    "Po wytrenowaniu modelu możemy zobazyć jak sobie radzi z danymi.\n",
    "\n",
    "Poniżej prezentuje się wykres przebiegu spadku wartości funkcji kosztu:"
   ]
  },
  {
   "cell_type": "code",
   "execution_count": 9,
   "metadata": {
    "scrolled": true
   },
   "outputs": [
    {
     "data": {
      "image/png": "[encoded data removed]",
      "text/plain": [
       "<matplotlib.figure.Figure at 0x426f190>"
      ]
     },
     "metadata": {},
     "output_type": "display_data"
    }
   ],
   "source": [
    "print_plot(mlp)"
   ]
  },
  {
   "cell_type": "markdown",
   "metadata": {},
   "source": [
    "Model bez większych problemów dążył do osiągnięcia minimum. Teraz można sprawdzić jak sobie poradzi z danymi na jakich był testowany i których jeszcze nie widział."
   ]
  },
  {
   "cell_type": "code",
   "execution_count": 10,
   "metadata": {
    "scrolled": true
   },
   "outputs": [
    {
     "name": "stdout",
     "output_type": "stream",
     "text": [
      "Dane treningowe: 97.68%\n",
      "Dane testowe: 96.15%\n"
     ]
    }
   ],
   "source": [
    "pred_score(X_train, y_train, X_test, y_test, mlp)"
   ]
  },
  {
   "cell_type": "markdown",
   "metadata": {},
   "source": [
    "Wyniki są zadowalające biorąc pod uwagę iż model potrzebował niecałych 23 minut na domowym komputerze w ciągu których wykonał 800 epok.\n",
    "\n",
    "Sprawdźmy z jakimi cyframi model miał problem.\n",
    "\n",
    "T - poprawca cyfra\n",
    "\n",
    "P - klasyfikacja przez model"
   ]
  },
  {
   "cell_type": "code",
   "execution_count": 9,
   "metadata": {
    "scrolled": true
   },
   "outputs": [
    {
     "data": {
      "image/png": "[encoded data removed]",
      "text/plain": [
       "<matplotlib.figure.Figure at 0xe41d0b0>"
      ]
     },
     "metadata": {},
     "output_type": "display_data"
    }
   ],
   "source": [
    "y = mlp.predict(X_test)\n",
    "print_plots(X_test,y_test,y, show=True)"
   ]
  },
  {
   "cell_type": "markdown",
   "metadata": {},
   "source": [
    "Warto zobaczyć jak wygląda macierz konfuzji."
   ]
  },
  {
   "cell_type": "code",
   "execution_count": 10,
   "metadata": {},
   "outputs": [
    {
     "data": {
      "text/html": [
       "<div>\n",
       "<style scoped>\n",
       "    .dataframe tbody tr th:only-of-type {\n",
       "        vertical-align: middle;\n",
       "    }\n",
       "\n",
       "    .dataframe tbody tr th {\n",
       "        vertical-align: top;\n",
       "    }\n",
       "\n",
       "    .dataframe thead th {\n",
       "        text-align: right;\n",
       "    }\n",
       "</style>\n",
       "<table border=\"1\" class=\"dataframe\">\n",
       "  <thead>\n",
       "    <tr style=\"text-align: right;\">\n",
       "      <th></th>\n",
       "      <th>0</th>\n",
       "      <th>1</th>\n",
       "      <th>2</th>\n",
       "      <th>3</th>\n",
       "      <th>4</th>\n",
       "      <th>5</th>\n",
       "      <th>6</th>\n",
       "      <th>7</th>\n",
       "      <th>8</th>\n",
       "      <th>9</th>\n",
       "    </tr>\n",
       "  </thead>\n",
       "  <tbody>\n",
       "    <tr>\n",
       "      <th>0</th>\n",
       "      <td>966</td>\n",
       "      <td>1</td>\n",
       "      <td>2</td>\n",
       "      <td>1</td>\n",
       "      <td>1</td>\n",
       "      <td>1</td>\n",
       "      <td>4</td>\n",
       "      <td>2</td>\n",
       "      <td>1</td>\n",
       "      <td>1</td>\n",
       "    </tr>\n",
       "    <tr>\n",
       "      <th>1</th>\n",
       "      <td>0</td>\n",
       "      <td>1121</td>\n",
       "      <td>1</td>\n",
       "      <td>3</td>\n",
       "      <td>0</td>\n",
       "      <td>0</td>\n",
       "      <td>3</td>\n",
       "      <td>0</td>\n",
       "      <td>7</td>\n",
       "      <td>0</td>\n",
       "    </tr>\n",
       "    <tr>\n",
       "      <th>2</th>\n",
       "      <td>8</td>\n",
       "      <td>1</td>\n",
       "      <td>991</td>\n",
       "      <td>4</td>\n",
       "      <td>9</td>\n",
       "      <td>1</td>\n",
       "      <td>0</td>\n",
       "      <td>12</td>\n",
       "      <td>5</td>\n",
       "      <td>1</td>\n",
       "    </tr>\n",
       "    <tr>\n",
       "      <th>3</th>\n",
       "      <td>2</td>\n",
       "      <td>0</td>\n",
       "      <td>8</td>\n",
       "      <td>974</td>\n",
       "      <td>1</td>\n",
       "      <td>8</td>\n",
       "      <td>1</td>\n",
       "      <td>7</td>\n",
       "      <td>8</td>\n",
       "      <td>1</td>\n",
       "    </tr>\n",
       "    <tr>\n",
       "      <th>4</th>\n",
       "      <td>1</td>\n",
       "      <td>1</td>\n",
       "      <td>2</td>\n",
       "      <td>1</td>\n",
       "      <td>945</td>\n",
       "      <td>0</td>\n",
       "      <td>9</td>\n",
       "      <td>2</td>\n",
       "      <td>3</td>\n",
       "      <td>18</td>\n",
       "    </tr>\n",
       "    <tr>\n",
       "      <th>5</th>\n",
       "      <td>5</td>\n",
       "      <td>2</td>\n",
       "      <td>3</td>\n",
       "      <td>14</td>\n",
       "      <td>0</td>\n",
       "      <td>840</td>\n",
       "      <td>12</td>\n",
       "      <td>2</td>\n",
       "      <td>9</td>\n",
       "      <td>5</td>\n",
       "    </tr>\n",
       "    <tr>\n",
       "      <th>6</th>\n",
       "      <td>5</td>\n",
       "      <td>3</td>\n",
       "      <td>5</td>\n",
       "      <td>1</td>\n",
       "      <td>7</td>\n",
       "      <td>7</td>\n",
       "      <td>929</td>\n",
       "      <td>0</td>\n",
       "      <td>1</td>\n",
       "      <td>0</td>\n",
       "    </tr>\n",
       "    <tr>\n",
       "      <th>7</th>\n",
       "      <td>4</td>\n",
       "      <td>3</td>\n",
       "      <td>21</td>\n",
       "      <td>5</td>\n",
       "      <td>4</td>\n",
       "      <td>0</td>\n",
       "      <td>0</td>\n",
       "      <td>978</td>\n",
       "      <td>0</td>\n",
       "      <td>13</td>\n",
       "    </tr>\n",
       "    <tr>\n",
       "      <th>8</th>\n",
       "      <td>8</td>\n",
       "      <td>1</td>\n",
       "      <td>3</td>\n",
       "      <td>5</td>\n",
       "      <td>7</td>\n",
       "      <td>5</td>\n",
       "      <td>12</td>\n",
       "      <td>4</td>\n",
       "      <td>927</td>\n",
       "      <td>2</td>\n",
       "    </tr>\n",
       "    <tr>\n",
       "      <th>9</th>\n",
       "      <td>9</td>\n",
       "      <td>7</td>\n",
       "      <td>1</td>\n",
       "      <td>12</td>\n",
       "      <td>17</td>\n",
       "      <td>8</td>\n",
       "      <td>1</td>\n",
       "      <td>6</td>\n",
       "      <td>4</td>\n",
       "      <td>944</td>\n",
       "    </tr>\n",
       "  </tbody>\n",
       "</table>\n",
       "</div>"
      ],
      "text/plain": [
       "     0     1    2    3    4    5    6    7    8    9\n",
       "0  966     1    2    1    1    1    4    2    1    1\n",
       "1    0  1121    1    3    0    0    3    0    7    0\n",
       "2    8     1  991    4    9    1    0   12    5    1\n",
       "3    2     0    8  974    1    8    1    7    8    1\n",
       "4    1     1    2    1  945    0    9    2    3   18\n",
       "5    5     2    3   14    0  840   12    2    9    5\n",
       "6    5     3    5    1    7    7  929    0    1    0\n",
       "7    4     3   21    5    4    0    0  978    0   13\n",
       "8    8     1    3    5    7    5   12    4  927    2\n",
       "9    9     7    1   12   17    8    1    6    4  944"
      ]
     },
     "execution_count": 10,
     "metadata": {},
     "output_type": "execute_result"
    }
   ],
   "source": [
    "conf_matrix(y_test,y)"
   ]
  },
  {
   "cell_type": "markdown",
   "metadata": {},
   "source": [
    "Najczęściej mylił się z 7 uznając ją jako 2. Faktycznie te liczby potrafią wyglądać podobnie. Równiej pare 4 uznawał za 9 i 9 za 4."
   ]
  },
  {
   "cell_type": "markdown",
   "metadata": {},
   "source": [
    "---"
   ]
  },
  {
   "cell_type": "markdown",
   "metadata": {},
   "source": [
    "# Czym jest Wine Data Set?\n",
    "\n",
    "Jest to zbiór danych zawierające informacje na temat różnych chemicznych cech wina.\n",
    "A dokładnie:\n",
    "* Alkohol\n",
    "* Kwas jabłkowy\n",
    "* Popiół\n",
    "* Zasadowość popiołu\n",
    "* Magnez \n",
    "* Całk. zaw. fenoli\n",
    "* Flawonoidy\n",
    "* Fenole nieflawonoidowe\n",
    "* Proantocyjaniny\n",
    "* Intensywność koloru\n",
    "* Odcień\n",
    "* Transmitancja 280/315 nm\n",
    "* Prolina\n",
    "\n",
    "Mamy podział na 3 etykiety."
   ]
  },
  {
   "cell_type": "code",
   "execution_count": 3,
   "metadata": {},
   "outputs": [],
   "source": [
    "X_train, y_train, X_test, y_test = wine_load()"
   ]
  },
  {
   "cell_type": "code",
   "execution_count": 4,
   "metadata": {
    "scrolled": false
   },
   "outputs": [
    {
     "data": {
      "text/html": [
       "<div>\n",
       "<style scoped>\n",
       "    .dataframe tbody tr th:only-of-type {\n",
       "        vertical-align: middle;\n",
       "    }\n",
       "\n",
       "    .dataframe tbody tr th {\n",
       "        vertical-align: top;\n",
       "    }\n",
       "\n",
       "    .dataframe thead th {\n",
       "        text-align: right;\n",
       "    }\n",
       "</style>\n",
       "<table border=\"1\" class=\"dataframe\">\n",
       "  <thead>\n",
       "    <tr style=\"text-align: right;\">\n",
       "      <th></th>\n",
       "      <th>Alkohol</th>\n",
       "      <th>Kwas jabłkowy</th>\n",
       "      <th>Popiół</th>\n",
       "      <th>Zasadowość popiołu</th>\n",
       "      <th>Magnez</th>\n",
       "      <th>Całk. zaw. fenoli</th>\n",
       "      <th>Flawonoidy</th>\n",
       "      <th>Fenole nieflawonoidowe</th>\n",
       "      <th>Proantocyjaniny</th>\n",
       "      <th>Intensywność koloru</th>\n",
       "      <th>Odcień</th>\n",
       "      <th>Transmitancja 280/315 nm</th>\n",
       "      <th>Prolina</th>\n",
       "    </tr>\n",
       "  </thead>\n",
       "  <tbody>\n",
       "    <tr>\n",
       "      <th>0</th>\n",
       "      <td>13.72</td>\n",
       "      <td>1.43</td>\n",
       "      <td>2.50</td>\n",
       "      <td>16.7</td>\n",
       "      <td>108.0</td>\n",
       "      <td>3.40</td>\n",
       "      <td>3.67</td>\n",
       "      <td>0.19</td>\n",
       "      <td>2.04</td>\n",
       "      <td>6.8</td>\n",
       "      <td>0.89</td>\n",
       "      <td>2.87</td>\n",
       "      <td>1285.0</td>\n",
       "    </tr>\n",
       "    <tr>\n",
       "      <th>1</th>\n",
       "      <td>12.37</td>\n",
       "      <td>1.21</td>\n",
       "      <td>2.56</td>\n",
       "      <td>18.1</td>\n",
       "      <td>98.0</td>\n",
       "      <td>2.42</td>\n",
       "      <td>2.65</td>\n",
       "      <td>0.37</td>\n",
       "      <td>2.08</td>\n",
       "      <td>4.6</td>\n",
       "      <td>1.19</td>\n",
       "      <td>2.30</td>\n",
       "      <td>678.0</td>\n",
       "    </tr>\n",
       "    <tr>\n",
       "      <th>2</th>\n",
       "      <td>13.83</td>\n",
       "      <td>1.57</td>\n",
       "      <td>2.62</td>\n",
       "      <td>20.0</td>\n",
       "      <td>115.0</td>\n",
       "      <td>2.95</td>\n",
       "      <td>3.40</td>\n",
       "      <td>0.40</td>\n",
       "      <td>1.72</td>\n",
       "      <td>6.6</td>\n",
       "      <td>1.13</td>\n",
       "      <td>2.57</td>\n",
       "      <td>1130.0</td>\n",
       "    </tr>\n",
       "    <tr>\n",
       "      <th>3</th>\n",
       "      <td>13.16</td>\n",
       "      <td>3.57</td>\n",
       "      <td>2.15</td>\n",
       "      <td>21.0</td>\n",
       "      <td>102.0</td>\n",
       "      <td>1.50</td>\n",
       "      <td>0.55</td>\n",
       "      <td>0.43</td>\n",
       "      <td>1.30</td>\n",
       "      <td>4.0</td>\n",
       "      <td>0.60</td>\n",
       "      <td>1.68</td>\n",
       "      <td>830.0</td>\n",
       "    </tr>\n",
       "    <tr>\n",
       "      <th>4</th>\n",
       "      <td>12.25</td>\n",
       "      <td>1.73</td>\n",
       "      <td>2.12</td>\n",
       "      <td>19.0</td>\n",
       "      <td>80.0</td>\n",
       "      <td>1.65</td>\n",
       "      <td>2.03</td>\n",
       "      <td>0.37</td>\n",
       "      <td>1.63</td>\n",
       "      <td>3.4</td>\n",
       "      <td>1.00</td>\n",
       "      <td>3.17</td>\n",
       "      <td>510.0</td>\n",
       "    </tr>\n",
       "  </tbody>\n",
       "</table>\n",
       "</div>"
      ],
      "text/plain": [
       "   Alkohol  Kwas jabłkowy  Popiół  Zasadowość popiołu  Magnez  \\\n",
       "0    13.72           1.43    2.50                16.7   108.0   \n",
       "1    12.37           1.21    2.56                18.1    98.0   \n",
       "2    13.83           1.57    2.62                20.0   115.0   \n",
       "3    13.16           3.57    2.15                21.0   102.0   \n",
       "4    12.25           1.73    2.12                19.0    80.0   \n",
       "\n",
       "   Całk. zaw. fenoli  Flawonoidy  Fenole nieflawonoidowe  Proantocyjaniny  \\\n",
       "0               3.40        3.67                    0.19             2.04   \n",
       "1               2.42        2.65                    0.37             2.08   \n",
       "2               2.95        3.40                    0.40             1.72   \n",
       "3               1.50        0.55                    0.43             1.30   \n",
       "4               1.65        2.03                    0.37             1.63   \n",
       "\n",
       "   Intensywność koloru  Odcień  Transmitancja 280/315 nm  Prolina  \n",
       "0                  6.8    0.89                      2.87   1285.0  \n",
       "1                  4.6    1.19                      2.30    678.0  \n",
       "2                  6.6    1.13                      2.57   1130.0  \n",
       "3                  4.0    0.60                      1.68    830.0  \n",
       "4                  3.4    1.00                      3.17    510.0  "
      ]
     },
     "execution_count": 4,
     "metadata": {},
     "output_type": "execute_result"
    }
   ],
   "source": [
    "c = ['Alkohol','Kwas jabłkowy','Popiół','Zasadowość popiołu','Magnez','Całk. zaw. fenoli','Flawonoidy',\n",
    "       'Fenole nieflawonoidowe','Proantocyjaniny','Intensywność koloru','Odcień','Transmitancja 280/315 nm','Prolina']\n",
    "pd.DataFrame(X_train[:5], columns=c)"
   ]
  },
  {
   "cell_type": "markdown",
   "metadata": {},
   "source": [
    "Wagi pomiędzy sobą potrafią się bardzo różnić skalą, dlatego warto je ustandaryzować.\n",
    "\n",
    "Standaryzacja polega na wprowadzeniu do kolumny cech średnią 0 przy odchyleniu standardowym 1. Dzięki temu otrzymujemy rozkład normalny ułatwiający naukę.\n",
    "\n",
    "\\begin{equation*}\n",
    "x_{std}^{(i)} = \\frac{x^{(i)}-μ_x}{\\sigma_x} \\\\\n",
    "x_{std} \\text{ - ustandaryzowana wartość} \\\\\n",
    "x \\text{ - wartość do ustandaryzowania} \\\\\n",
    "μ_x \\text{ - średnia próbek z danej kolumny} \\\\\n",
    "\\sigma_x \\text{ - odchylenie standardowe z danej kolumny}\n",
    "\\end{equation*}"
   ]
  },
  {
   "cell_type": "code",
   "execution_count": 5,
   "metadata": {},
   "outputs": [],
   "source": [
    "from sklearn.preprocessing import scale\n",
    "X_train, X_test = scale(X_train), scale(X_test)"
   ]
  },
  {
   "cell_type": "markdown",
   "metadata": {},
   "source": [
    "Zobaczmy jak teraz wyglądają wartości."
   ]
  },
  {
   "cell_type": "code",
   "execution_count": 6,
   "metadata": {
    "scrolled": true
   },
   "outputs": [
    {
     "data": {
      "text/html": [
       "<div>\n",
       "<style scoped>\n",
       "    .dataframe tbody tr th:only-of-type {\n",
       "        vertical-align: middle;\n",
       "    }\n",
       "\n",
       "    .dataframe tbody tr th {\n",
       "        vertical-align: top;\n",
       "    }\n",
       "\n",
       "    .dataframe thead th {\n",
       "        text-align: right;\n",
       "    }\n",
       "</style>\n",
       "<table border=\"1\" class=\"dataframe\">\n",
       "  <thead>\n",
       "    <tr style=\"text-align: right;\">\n",
       "      <th></th>\n",
       "      <th>Alkohol</th>\n",
       "      <th>Kwas jabłkowy</th>\n",
       "      <th>Popiół</th>\n",
       "      <th>Zasadowość popiołu</th>\n",
       "      <th>Magnez</th>\n",
       "      <th>Całk. zaw. fenoli</th>\n",
       "      <th>Flawonoidy</th>\n",
       "      <th>Fenole nieflawonoidowe</th>\n",
       "      <th>Proantocyjaniny</th>\n",
       "      <th>Intensywność koloru</th>\n",
       "      <th>Odcień</th>\n",
       "      <th>Transmitancja 280/315 nm</th>\n",
       "      <th>Prolina</th>\n",
       "    </tr>\n",
       "  </thead>\n",
       "  <tbody>\n",
       "    <tr>\n",
       "      <th>0</th>\n",
       "      <td>0.938990</td>\n",
       "      <td>-0.874182</td>\n",
       "      <td>0.518202</td>\n",
       "      <td>-0.882528</td>\n",
       "      <td>0.711115</td>\n",
       "      <td>1.798179</td>\n",
       "      <td>1.662210</td>\n",
       "      <td>-1.440383</td>\n",
       "      <td>0.817769</td>\n",
       "      <td>0.705929</td>\n",
       "      <td>-0.238218</td>\n",
       "      <td>0.441107</td>\n",
       "      <td>1.934407</td>\n",
       "    </tr>\n",
       "    <tr>\n",
       "      <th>1</th>\n",
       "      <td>-0.776350</td>\n",
       "      <td>-1.063511</td>\n",
       "      <td>0.732729</td>\n",
       "      <td>-0.463796</td>\n",
       "      <td>-0.059046</td>\n",
       "      <td>0.252014</td>\n",
       "      <td>0.658745</td>\n",
       "      <td>0.011291</td>\n",
       "      <td>0.886760</td>\n",
       "      <td>-0.218539</td>\n",
       "      <td>1.025019</td>\n",
       "      <td>-0.360820</td>\n",
       "      <td>-0.116619</td>\n",
       "    </tr>\n",
       "    <tr>\n",
       "      <th>2</th>\n",
       "      <td>1.078758</td>\n",
       "      <td>-0.753700</td>\n",
       "      <td>0.947256</td>\n",
       "      <td>0.104484</td>\n",
       "      <td>1.250227</td>\n",
       "      <td>1.088205</td>\n",
       "      <td>1.396587</td>\n",
       "      <td>0.253236</td>\n",
       "      <td>0.265844</td>\n",
       "      <td>0.621887</td>\n",
       "      <td>0.772371</td>\n",
       "      <td>0.019040</td>\n",
       "      <td>1.410669</td>\n",
       "    </tr>\n",
       "    <tr>\n",
       "      <th>3</th>\n",
       "      <td>0.227441</td>\n",
       "      <td>0.967469</td>\n",
       "      <td>-0.733206</td>\n",
       "      <td>0.403578</td>\n",
       "      <td>0.249019</td>\n",
       "      <td>-1.199487</td>\n",
       "      <td>-1.407212</td>\n",
       "      <td>0.495182</td>\n",
       "      <td>-0.458558</td>\n",
       "      <td>-0.470666</td>\n",
       "      <td>-1.459348</td>\n",
       "      <td>-1.233092</td>\n",
       "      <td>0.396982</td>\n",
       "    </tr>\n",
       "    <tr>\n",
       "      <th>4</th>\n",
       "      <td>-0.928825</td>\n",
       "      <td>-0.616006</td>\n",
       "      <td>-0.840470</td>\n",
       "      <td>-0.194611</td>\n",
       "      <td>-1.445335</td>\n",
       "      <td>-0.962829</td>\n",
       "      <td>0.048796</td>\n",
       "      <td>0.011291</td>\n",
       "      <td>0.110615</td>\n",
       "      <td>-0.722794</td>\n",
       "      <td>0.224969</td>\n",
       "      <td>0.863174</td>\n",
       "      <td>-0.684284</td>\n",
       "    </tr>\n",
       "  </tbody>\n",
       "</table>\n",
       "</div>"
      ],
      "text/plain": [
       "    Alkohol  Kwas jabłkowy    Popiół  Zasadowość popiołu    Magnez  \\\n",
       "0  0.938990      -0.874182  0.518202           -0.882528  0.711115   \n",
       "1 -0.776350      -1.063511  0.732729           -0.463796 -0.059046   \n",
       "2  1.078758      -0.753700  0.947256            0.104484  1.250227   \n",
       "3  0.227441       0.967469 -0.733206            0.403578  0.249019   \n",
       "4 -0.928825      -0.616006 -0.840470           -0.194611 -1.445335   \n",
       "\n",
       "   Całk. zaw. fenoli  Flawonoidy  Fenole nieflawonoidowe  Proantocyjaniny  \\\n",
       "0           1.798179    1.662210               -1.440383         0.817769   \n",
       "1           0.252014    0.658745                0.011291         0.886760   \n",
       "2           1.088205    1.396587                0.253236         0.265844   \n",
       "3          -1.199487   -1.407212                0.495182        -0.458558   \n",
       "4          -0.962829    0.048796                0.011291         0.110615   \n",
       "\n",
       "   Intensywność koloru    Odcień  Transmitancja 280/315 nm   Prolina  \n",
       "0             0.705929 -0.238218                  0.441107  1.934407  \n",
       "1            -0.218539  1.025019                 -0.360820 -0.116619  \n",
       "2             0.621887  0.772371                  0.019040  1.410669  \n",
       "3            -0.470666 -1.459348                 -1.233092  0.396982  \n",
       "4            -0.722794  0.224969                  0.863174 -0.684284  "
      ]
     },
     "execution_count": 6,
     "metadata": {},
     "output_type": "execute_result"
    }
   ],
   "source": [
    "pd.DataFrame(X_train[:5], columns=c)"
   ]
  },
  {
   "cell_type": "markdown",
   "metadata": {},
   "source": [
    "Ten zabieg powinien bardzo ułatwić naukę naszego modelu. "
   ]
  },
  {
   "cell_type": "markdown",
   "metadata": {},
   "source": [
    "---"
   ]
  },
  {
   "cell_type": "markdown",
   "metadata": {},
   "source": [
    "# Tworzenie oraz uczenie modelu MLP dla problemu Wine Data Set"
   ]
  },
  {
   "cell_type": "code",
   "execution_count": 7,
   "metadata": {},
   "outputs": [],
   "source": [
    "mlp = MLP(n_output=3,                  # liczba etykiet\n",
    "          n_features=X_train.shape[1]  # liczba cech\n",
    "          ,n_hidden=10,                # liczba neuronow w warstwie ukrytej\n",
    "          l1=0.1, l2=0.1,              # wspolczynniki regularyzacji\n",
    "          epochs=1000,                 # liczba epok\n",
    "          eta=.001                     # wspołczynnik uczenia\n",
    "          ,eta_val=.00001,             # współczynnik zmiany ety\n",
    "          batches=5,                   # modtfikacja co k-ty wektor \n",
    "          alpha=.001                   # wpsolczynnik momentu\n",
    "         )"
   ]
  },
  {
   "cell_type": "markdown",
   "metadata": {},
   "source": [
    "Tworze model o strukturze:\n",
    "\n",
    "| Warstwa|Wejsciowa | Ukryta | Wyjściowa\n",
    "|--------|----------|--------|----------\n",
    "|Ilość neuronów|13|10|3"
   ]
  },
  {
   "cell_type": "code",
   "execution_count": 8,
   "metadata": {
    "scrolled": true
   },
   "outputs": [
    {
     "name": "stderr",
     "output_type": "stream",
     "text": [
      "Epoka: 1000/1000, time: 0.1m"
     ]
    },
    {
     "data": {
      "text/plain": [
       "<modelMLP.MLP instance at 0x0DA233C8>"
      ]
     },
     "execution_count": 8,
     "metadata": {},
     "output_type": "execute_result"
    }
   ],
   "source": [
    "mlp.fit(X_train, y_train)"
   ]
  },
  {
   "cell_type": "markdown",
   "metadata": {},
   "source": [
    "Nauka w tym przypadku nauka jest wręcz błyskawiczna, powodem jest  znacznie mniejsza ilości wag do zmian. Nauka trwała 1s."
   ]
  },
  {
   "cell_type": "markdown",
   "metadata": {},
   "source": [
    "# Analiza poprawności klasyfikacji dla Wine Data Set"
   ]
  },
  {
   "cell_type": "markdown",
   "metadata": {},
   "source": [
    "Zobaczmy jak wygląda wykres spadku wartości błędu."
   ]
  },
  {
   "cell_type": "code",
   "execution_count": 103,
   "metadata": {
    "scrolled": true
   },
   "outputs": [
    {
     "data": {
      "image/png": "[encoded data removed]",
      "text/plain": [
       "<matplotlib.figure.Figure at 0x10220670>"
      ]
     },
     "metadata": {},
     "output_type": "display_data"
    }
   ],
   "source": [
    "print_plot(mlp)"
   ]
  },
  {
   "cell_type": "markdown",
   "metadata": {},
   "source": [
    "Model osiągną minimum już w 800 epoce."
   ]
  },
  {
   "cell_type": "code",
   "execution_count": 11,
   "metadata": {
    "scrolled": false
   },
   "outputs": [
    {
     "name": "stdout",
     "output_type": "stream",
     "text": [
      "Dane treningowe: 98.67%\n",
      "Dane testowe: 92.86%\n"
     ]
    },
    {
     "data": {
      "text/html": [
       "<div>\n",
       "<style scoped>\n",
       "    .dataframe tbody tr th:only-of-type {\n",
       "        vertical-align: middle;\n",
       "    }\n",
       "\n",
       "    .dataframe tbody tr th {\n",
       "        vertical-align: top;\n",
       "    }\n",
       "\n",
       "    .dataframe thead th {\n",
       "        text-align: right;\n",
       "    }\n",
       "</style>\n",
       "<table border=\"1\" class=\"dataframe\">\n",
       "  <thead>\n",
       "    <tr style=\"text-align: right;\">\n",
       "      <th></th>\n",
       "      <th>True class 1</th>\n",
       "      <th>True class 2</th>\n",
       "      <th>True class 3</th>\n",
       "    </tr>\n",
       "  </thead>\n",
       "  <tbody>\n",
       "    <tr>\n",
       "      <th>Pred. class 1</th>\n",
       "      <td>14</td>\n",
       "      <td>1</td>\n",
       "      <td>0</td>\n",
       "    </tr>\n",
       "    <tr>\n",
       "      <th>Pred. class 2</th>\n",
       "      <td>0</td>\n",
       "      <td>9</td>\n",
       "      <td>1</td>\n",
       "    </tr>\n",
       "    <tr>\n",
       "      <th>Pred. class 3</th>\n",
       "      <td>0</td>\n",
       "      <td>0</td>\n",
       "      <td>3</td>\n",
       "    </tr>\n",
       "  </tbody>\n",
       "</table>\n",
       "</div>"
      ],
      "text/plain": [
       "               True class 1  True class 2  True class 3\n",
       "Pred. class 1            14             1             0\n",
       "Pred. class 2             0             9             1\n",
       "Pred. class 3             0             0             3"
      ]
     },
     "execution_count": 11,
     "metadata": {},
     "output_type": "execute_result"
    }
   ],
   "source": [
    "pred_score(X_train, y_train, X_test, y_test, mlp)\n",
    "y = mlp.predict(X_test)\n",
    "conf_matrix(y_test,y,c =['True class 1','True class 2','True class 3'],\n",
    "            i =['Pred. class 1','Pred. class 2','Pred. class 3'] )"
   ]
  },
  {
   "cell_type": "markdown",
   "metadata": {},
   "source": [
    "Tylko dwa przypadki sklasyfikował nie poprawnie."
   ]
  },
  {
   "cell_type": "markdown",
   "metadata": {},
   "source": [
    "# Podsumowanie\n",
    "Zaimplementowany przeze mnie model radzi sobie dobrze z klasyfikacją cech Win jak i w rozpoznawaniu cyfr na małych obrazkach, co udowadniają powyższe przykłady. Wielkość stworzonej sieci i dobranie odpowiednich parametrów ma kluczowe znaczenie dla wydajności i czasu nauki modelu.\n",
    "\n",
    "Należy pamiętać że odpowiedni model to jedno, złe przygotowane dane mogą uniemożliwić modelowi nauczenia się ich, należy zwracać uwagę czy dane nie posiadają luk, wartości NULL. Warto również stosować standaryzacje oraz normalizacje."
   ]
  }
 ],
 "metadata": {
  "kernelspec": {
   "display_name": "Python 2",
   "language": "python",
   "name": "python2"
  },
  "language_info": {
   "codemirror_mode": {
    "name": "ipython",
    "version": 2
   },
   "file_extension": ".py",
   "mimetype": "text/x-python",
   "name": "python",
   "nbconvert_exporter": "python",
   "pygments_lexer": "ipython2",
   "version": "2.7.14"
  }
 },
 "nbformat": 4,
 "nbformat_minor": 2
}
